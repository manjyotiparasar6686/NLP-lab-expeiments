{
  "nbformat": 4,
  "nbformat_minor": 0,
  "metadata": {
    "colab": {
      "provenance": []
    },
    "kernelspec": {
      "name": "python3",
      "display_name": "Python 3"
    },
    "language_info": {
      "name": "python"
    }
  },
  "cells": [
    {
      "cell_type": "code",
      "execution_count": 1,
      "metadata": {
        "colab": {
          "base_uri": "https://localhost:8080/"
        },
        "id": "oQzVbhVxL4Z2",
        "outputId": "daf21687-d8dd-4c47-ff89-a13bd25f1c22"
      },
      "outputs": [
        {
          "output_type": "execute_result",
          "data": {
            "text/plain": [
              "{'are': 4,\n",
              " 'anymore': 1,\n",
              " 'retorted': 1,\n",
              " 'Father': 1,\n",
              " 'you': 3,\n",
              " 'heed': 1,\n",
              " 'As': 1,\n",
              " 'of': 3,\n",
              " 'path': 1,\n",
              " 'stern': 1,\n",
              " 'consequences': 1,\n",
              " 'can': 1,\n",
              " 'spoke': 1,\n",
              " 'arrogance': 1,\n",
              " 'dialogues': 1,\n",
              " 'the': 10,\n",
              " 'I': 2,\n",
              " 'not': 3,\n",
              " 'demands': 1,\n",
              " 'Atreus': 2,\n",
              " 'journey': 1,\n",
              " 'eager': 1,\n",
              " 'Boy': 1,\n",
              " 'defiance': 1,\n",
              " 'responded': 1,\n",
              " 'that': 1,\n",
              " 'test': 1,\n",
              " 'tumultuous': 1,\n",
              " 'complex': 1,\n",
              " 'child': 1,\n",
              " 'yet': 1,\n",
              " 'severe': 1,\n",
              " 'world': 1,\n",
              " 'deep': 1,\n",
              " 'strength': 1,\n",
              " 'prove': 1,\n",
              " 'caring': 1,\n",
              " 'his': 3,\n",
              " 'voice': 1,\n",
              " 'echoes': 1,\n",
              " 'we': 2,\n",
              " 'ventured': 1,\n",
              " 'their': 2,\n",
              " 'between': 1,\n",
              " 'monsters': 1,\n",
              " 'Kratos': 2,\n",
              " 'to': 6,\n",
              " 'fatherson': 1,\n",
              " 'You': 1,\n",
              " 'vulnerability': 1,\n",
              " 'odyssey': 1,\n",
              " 'Im': 1,\n",
              " 'discipline': 1,\n",
              " 'in': 8,\n",
              " 'through': 1,\n",
              " 'they': 1,\n",
              " 'We': 2,\n",
              " 'shaping': 1,\n",
              " 'youthful': 1,\n",
              " 'with': 3,\n",
              " 'treacherous': 1,\n",
              " 'words': 1,\n",
              " 'will': 1,\n",
              " 'ready': 1,\n",
              " 'epic': 1,\n",
              " 'walk': 1,\n",
              " 'my': 1,\n",
              " 'recalling': 1,\n",
              " 'blending': 1,\n",
              " 'it': 5,\n",
              " 'But': 1,\n",
              " 'nor': 1,\n",
              " 'The': 1,\n",
              " 'revealed': 1,\n",
              " 'resonating': 1,\n",
              " 'dynamic': 1,\n",
              " 'tone': 1,\n",
              " 'a': 37,\n",
              " 'must': 1,\n",
              " 'handle': 1,\n",
              " 'gods': 3,\n",
              " 'himself': 1,\n",
              " 'realms': 1,\n",
              " 'son': 3,\n",
              " 'mortals': 1,\n",
              " 'own': 1,\n",
              " 'and': 5}"
            ]
          },
          "metadata": {},
          "execution_count": 1
        }
      ],
      "source": [
        "import re\n",
        "text = \"\"\"Kratos, his deep voice resonating, spoke to his son Atreus with a stern yet caring tone, \"Boy, you must heed my words. We are not gods, nor are we mortals. We walk the path in between, and that demands discipline.\" Atreus, eager to prove himself, responded with youthful defiance, \"But Father, I can handle it! I'm not a child anymore.\" Kratos, recalling his own tumultuous journey, retorted, \"You are not ready. The gods will test you, and the consequences of arrogance are severe.\" As they ventured through the treacherous realms, the echoes of their dialogues revealed a complex father-son dynamic, blending vulnerability with strength, shaping their epic odyssey in the world of gods and monsters.\"\"\"\n",
        "text = re.sub(r'[^\\w\\s]', '', ' '.join(text.split()))\n",
        "unique = set([word for word in text.split()])\n",
        "frequency = {key: text.count(key) for key in unique}\n",
        "frequency"
      ]
    }
  ]
}
